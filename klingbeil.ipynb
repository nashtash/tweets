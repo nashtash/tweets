{
 "cells": [
  {
   "cell_type": "markdown",
   "metadata": {},
   "source": [
    "## 1. Get Tweets"
   ]
  },
  {
   "cell_type": "code",
   "execution_count": 3,
   "metadata": {},
   "outputs": [],
   "source": [
    "import pandas as pd\n",
    "\n",
    "pd.options.display.max_columns = 999\n",
    "pd.options.display.max_colwidth = 999\n",
    "pd.options.display.max_rows = 999"
   ]
  },
  {
   "cell_type": "code",
   "execution_count": 4,
   "metadata": {},
   "outputs": [],
   "source": [
    "# Solve compatibility issues with notebooks and RunTime errors.\n",
    "import nest_asyncio\n",
    "nest_asyncio.apply()"
   ]
  },
  {
   "cell_type": "code",
   "execution_count": 5,
   "metadata": {},
   "outputs": [],
   "source": [
    "import twint\n",
    "# [https://github.com/twintproject/twint]"
   ]
  },
  {
   "cell_type": "markdown",
   "metadata": {},
   "source": [
    "------------------------------"
   ]
  },
  {
   "cell_type": "code",
   "execution_count": 6,
   "metadata": {},
   "outputs": [],
   "source": [
    "# Set up TWINT config\n",
    "c = twint.Config()"
   ]
  },
  {
   "cell_type": "raw",
   "metadata": {},
   "source": [
    "# Regex für '#Kuenast', 'Künast', kuenast\n",
    "\"(\\#?)(K|k)(ue|ü)nast\""
   ]
  },
  {
   "cell_type": "code",
   "execution_count": 7,
   "metadata": {},
   "outputs": [],
   "source": [
    "c.Search = \"Klingbeil\""
   ]
  },
  {
   "cell_type": "code",
   "execution_count": 8,
   "metadata": {},
   "outputs": [
    {
     "name": "stdout",
     "output_type": "stream",
     "text": [
      "Datum: 2019-06-30 | Username: berthar24434655 |  Tweet: No, America is NOT a nightmare! Trump is a nightmare!\n",
      "Datum: 2019-06-29 | Username: bill_klingbeil |  Tweet: Above the law?  Conway must be held accountable!!! #kellyann #HatchAct https://www.facebook.com/impeachtrumpasap/videos/2531012927128748?sfns=mo …\n",
      "Datum: 2019-06-29 | Username: ELewis1219 |  Tweet:  pic.twitter.com/8sSq6DSmWh\n",
      "Datum: 2019-06-29 | Username: derbuerger16 |  Tweet: #SPD o #CDU,für einen von beiden sind die #Grünen vielleicht der nächste Koalitionspartner im Bund Da halten sich #Klingbeil u #Ziemiak mit der Kritik natürlich zurück.  Was wäre wohl los gewesen wenn ein #AfD Politiker diese Aussage gemacht hätte und nicht  die #Grüne #Baerbock? pic.twitter.com/2fHvccEPKl\n",
      "Datum: 2019-06-29 | Username: Wilhelm_C_Busch |  Tweet: Herr Klingbeil, irgendwann legt jemand Ihre Maßstäbe bei Ihnen an. Dann wird es eng...\n",
      "Datum: 2019-06-29 | Username: karen12108676 |  Tweet: Build Our Wall with you on the other side of it.  Lol\n",
      "Datum: 2019-06-29 | Username: bertapetra |  Tweet: Der Hinweis an Klingbeil war jedenfalls super! Aber richtig “dran” warst du ziemlich am Anfang, oder ? Hab ich wohl leider verpasst.\n",
      "Datum: 2019-06-29 | Username: annahaesslin |  Tweet: Es gibt Dinge, die sollte man lieber nicht kommentieren. Das hier gehört dazu. Es gibt andere Themen, welche am heutigen Tag unser aller Aufmerksamkeit und Ihr politisches Handeln dringender benötigen, lieber Lars Klingbeil: #freeCarolaRackete\n",
      "Datum: 2019-06-29 | Username: Thomas0205 |  Tweet: @larsklingbeil Hallo Herr Klingbeil, mich würde wirklich mal interessieren, was die SPD zu dem Maut Debakel und bis zu 700 Mio.€ Verlust sagen würde. Herr Scheuer hätte vor dem Gerichtsurteil keine Verträge unterschreiben dürfen. Man hört gar nichts....  https://www.sueddeutsche.de/wirtschaft/pkw-maut-kosten-vertraege-andreas-scheuer-1.4503255 …\n",
      "Datum: 2019-06-29 | Username: buberrs |  Tweet: grade gemerkt dass lars klingbeil bayern fan ist... mein ganzes leben am überdenken...\n",
      "Datum: 2019-06-29 | Username: JaimeIgnacioPu2 |  Tweet: @walkaway\n",
      "Datum: 2019-06-29 | Username: JaimeIgnacioPu2 |  Tweet:  pic.twitter.com/PrjRbqhZVW\n",
      "Datum: 2019-06-29 | Username: bill_klingbeil |  Tweet: Trump is a disgrace!\n",
      "Datum: 2019-06-29 | Username: bill_klingbeil |  Tweet: Hell no!  I’ll move to China if I want that!!!\n",
      "Datum: 2019-06-29 | Username: Mr0range1 |  Tweet: The wind was so crazy just walking outside the stadium that day. Felt like it was gonna lift me off my feet.\n",
      "Datum: 2019-06-29 | Username: bill_klingbeil |  Tweet: I was there!  Freezing cold and super windy!!!!\n",
      "Datum: 2019-06-29 | Username: bill_klingbeil |  Tweet: I was at that game!  Crazy cold!!!\n",
      "Datum: 2019-06-29 | Username: bill_klingbeil |  Tweet: Joe Thomas hands down!!!!\n",
      "Datum: 2019-06-29 | Username: bill_klingbeil |  Tweet: Jimmy is correct!!!\n",
      "Datum: 2019-06-29 | Username: bill_klingbeil |  Tweet: Really?  I’m shocked 🤭🤭🤭 #Pharmaceutical #pharmaceuticals https://www.bbc.com/news/world-us-canada-48241663 …\n",
      "Datum: 2019-05-30 | Username: gerda_alice |  Tweet: Ich erwarte, daß Sie sich bei unseren jüdischen Mitbürgern für den Mißbrauch von Auschwitz entschuldigen. Und ich erwarte von Nahles und Klingbeil, Ihnen unmißverständlich klarzumachen, daß dieser Mißbrauch in Deutschland keinen Platz haben darf.\n",
      "Datum: 2019-05-30 | Username: Belmei1 |  Tweet: Ihrem \"gepflegten\"  Umgangston nach passen sie zu Herrn Klingbeil und dergleichen.\n",
      "Datum: 2019-05-30 | Username: JosLes01 |  Tweet: Wieder falsch, Klingbeil IST ein Rohrkrepierer #illner\n",
      "Datum: 2019-05-30 | Username: W_G_B_E |  Tweet: Die SPD ist tot. 👍  Und Hr Klingbeil, Kahrs und wie sie alle heißen, sind ein Teil des Untergangs dieser einstmals wichtigen Partei.   Das macht die Herrschaften sicher stolz.\n",
      "Datum: 2019-05-30 | Username: DerKoali |  Tweet: Ich mag auch Klingbeil und Kühnert. Aber Die SPD macht wirklich einen keinen einheitlichen Eindruck. Hoffe die \"guten\" setzen sich durch.\n",
      "Datum: 2019-05-30 | Username: MoNi_24680 |  Tweet: Meinst du schleimen wie es Klingbeil schon gemacht hat, noch mehr Angst, dass Wähler weglaufen,schlimmer kann es ja nicht kommen.Die CDU kann das besser ohne eine Schleimspur zu hinterlassen.\n",
      "Datum: 2019-05-30 | Username: _mbck_ |  Tweet: Ich denke, es liegt nicht unbedingt an der Aussage des Seeheimer Kreises, sondern daran, dass man nicht auf Herrn Klingbeil gehört hat...\n",
      "Datum: 2019-05-30 | Username: GoogleKnowsUs |  Tweet: Wo sind die Lösungen? Herr Klingbeil, Sie sind Generalsekretär der SPD, Herr  Kühnert ist an der Spitze der Jusos. Sie sind nicht „Niemand“ - was also soll das Nichtstun?\n",
      "Datum: 2019-05-30 | Username: bill_klingbeil |  Tweet: Ohio House passes bill to bail out nuclear plants, gut green-energy mandates   Ohio is so backwards! pic.twitter.com/Aop1ccNXQe\n",
      "Datum: 2019-05-30 | Username: bill_klingbeil |  Tweet: That’s why his ass is gone!!! https://twitter.com/RuiterWrongFAN/status/1133790497854697475 …\n",
      "Datum: 2019-05-30 | Username: bill_klingbeil |  Tweet: 😂😆🤣😀\n",
      "Datum: 2019-05-30 | Username: andreas_netzer |  Tweet: Eine Partei geführt von Personen ohne Berufserfahrung und Ausbildungsabschlüsse.  Die Liste derjenigen die Führungspostionen in der Partei bekleiden ohne überhaupt über einen Ausbildungsabschluss oder Berufserfahrung zu verfügen ist lang. Ob Schulz, Nahles, Klingbeil oder Kühnert\n",
      "Datum: 2019-05-30 | Username: Ritter_Roter |  Tweet: \"Uns hat eure Kritik erreicht\", sagte #SPD #Klingbeil zu #Rezo  Wir scheißen aber darauf.. pic.twitter.com/WzJghay6tD\n",
      "Datum: 2019-05-30 | Username: KCRNewspapers |  Tweet: Klingbeil talked to sports editor Joshua Welge about the game, her season and more.  https://www.kendallcountynow.com/2019/05/21/kendall-county-mva-athlete-of-the-week-grace-klingbeil-oswego-east-junior-softball/asfvivj/?utm_term=Autofeed&utm_medium=TwitterKCR&utm_source=Twitter#Echobox=1559192611 …\n",
      "Datum: 2019-05-30 | Username: jusos_os |  Tweet: Unter dem Titel \"Kommt zusammen für Europa\" haben uns am 23.05.2019 Lars Klingbeil und Kevin Kühnert auf dem Marktplatz in historischer Kulisse besucht, um mit uns über Europa zu diskutieren und Fragen über Europa zu beantworten.  Die Veranstaltung auf dem historischen Markt…  pic.twitter.com/xt6IDRjw4C\n",
      "Datum: 2019-05-30 | Username: TWduli |  Tweet: 放马过来！\n",
      "Datum: 2019-05-30 | Username: Bundeskater |  Tweet: Genossen wie Lauterbach, Klingbeil, Stegner, Maas, Kahrs, usw. - nur um einige der schlimmsten zu nennen - haben mich aus der Partei getrieben.\n",
      "Datum: 2019-05-30 | Username: tammoxgedanken |  Tweet: TAMMOXSCHE GEDANKEN - II: Tölpelkönigin  #WillyBrandtHaus im #Selbstzerstörungsmodus (...) #Nahles #Klingbeil #spd #spderneuern #spdvorsitz #personaldebatte #euwahl SPD-Diskussionsrunde​  Das blinde Lars-Huhn fand dieses eine Erkenntnis-Korn  https://tammox2.blogspot.com/2019/05/tolpelkonigin.html?spref=tw …\n",
      "Datum: 2019-05-29 | Username: hansjoerg_siber |  Tweet: So so, Lars Klingbeil findet den richtigen Ton. Ihr Gehör ist entweder gestört oder wenig anspruchsvoll.  Es wäre besser man würde mehr zuhören und weniger von sich geben. Demut ist jetzt gefragt und keine schnellen Antworten.\n",
      "Datum: 2019-05-29 | Username: schwarzseherin |  Tweet: mmh, das Woelken, Klingbeil, Kühnert Video? - Tenor von denen ich Feedback bekam: Geschleime\n",
      "Datum: 2019-04-30 | Username: bill_klingbeil |  Tweet: Like Canada and Germany? America gives you the best healthcare you can AFFORD!  Our system only benefits the wealthy 😢\n",
      "Datum: 2019-04-30 | Username: bill_klingbeil |  Tweet: 😢\n",
      "Datum: 2019-04-30 | Username: bill_klingbeil |  Tweet: @STakitaki Welcome to Cleveland!!!  Be ready to work hard!!!\n",
      "Datum: 2019-04-30 | Username: bill_klingbeil |  Tweet: 😢\n",
      "Datum: 2019-04-30 | Username: bill_klingbeil |  Tweet: Report: Walmart Workers Cost Taxpayers $6.2 Billion In Public Assistance via @forbes     Corporate welfare!!! http://www.forbes.com/sites/clareoconnor/2014/04/15/report-walmart-workers-cost-taxpayers-6-2-billion-in-public-assistance/ …\n",
      "Datum: 2019-04-30 | Username: beyermarc |  Tweet: Was hat die SPD konkret erreicht in den letzten 4 Jahren Herr klingbeil? Effektive und in Europa spürbare Verbesserung\n",
      "Datum: 2019-04-30 | Username: bill_klingbeil |  Tweet: GOP introduces plan to massively cut Social Security   They don’t care about us!     http://finance.yahoo.com/news/gop-introduces-plan-to-massively-cut-social-security-222200857.html?soc_src=community&soc_trk=tw … via @Yahoo\n",
      "Datum: 2019-04-30 | Username: 145Hunne |  Tweet: Klingbeil auch. Der hat sich in dem Bereich umgetan\n",
      "Datum: 2019-04-30 | Username: 145Hunne |  Tweet: Klingbeil ist angeblich gegen Rüstung 😂😂😂  pic.twitter.com/CQy1ZaJOUS\n",
      "Datum: 2019-04-30 | Username: MoNi_24680 |  Tweet: Das macht Klingbeil immer, eigentlich die ganze SPD. Wir sind alle Nazis in den Augen der SPD\n",
      "Datum: 2019-04-30 | Username: Martinho_Silves |  Tweet: Herr Klingbeil, was genau macht die SPD denn gegen die #Klimakrise? Ich höre immer nur schöne Worte...an alle denen das zu langsam geht, empfehle ich diese Bundestagspetition zur Einführung eines #Klimaschutz - Gesetzes:   https://epetitionen.bundestag.de/petitionen/_2019/_03/_17/Petition_92294.nc.html …\n",
      "Datum: 2019-04-30 | Username: wksamoaconsult |  Tweet: Was sind sie doch für eine  platte Fehlbesetzung wenn Sie die Selbstverständlichkeiten die Klingbeil formuliert hat verächtlich machen .Sie sind ein Provinzpolitikclown  .\n",
      "Datum: 2019-04-30 | Username: parasitesrule |  Tweet: Michele Klingbeil turbo talk #kmcb2019 Identifying novel factors associated with trypanosome DNA replication forks using nascent DNA proteomics\n",
      "Datum: 2019-04-30 | Username: petergruenn |  Tweet: Hr.Klingbeil. bei allem Respekt; wie wäre es mit einem Europa der Vernunft und i.S.f. die Menschen (die schon länger friedlich hier miteinander leben) ? 😊 Viel Glück im Wahlkampf f d SPD😄\n",
      "Datum: 2019-04-30 | Username: Ron_GER_ |  Tweet: Dass Klingbeil für s Team #Lügenpresse klatscht ist nicht überraschend. Womit soll er denn sonst Punkten? Seinen politischen Zielen?  Hinter jeder EU-Flagge steckt ein Nazi. #NazisRaus\n",
      "Datum: 2019-04-30 | Username: AlexanderOtt12 |  Tweet: Ungeachtet der berechtigten Aufforderung finde ich es immer lustig wenn Menschen wie Lars Klingbeil fordern Haltung zu zeigen. Als Waffenlobbyist in der SPD und zudem den Atheisten in der Partei ihren Arbeitskreis verweigern während Christen, Moslems und Juden einen haben. Arm.\n",
      "Datum: 2019-04-30 | Username: STAdrvc |  Tweet: Happy Secretary’s Day to Mrs. Klingbeil... a true gift to our children, parents, faculty, staff and entire school community! We love you, Mrs. K 💕\n",
      "Datum: 2019-04-30 | Username: lawrencemaymyo |  Tweet: Welche Richtungswahl? Einsiege Richtung von der ca 15000 Lobbyisten in der EU.Klingbeil verdient Geld auch von Waffen Hersteller Rein-Metal.Union und SPD sind gleich.Posten für sich Selb.  pic.twitter.com/xVAUMVwGXn\n",
      "Datum: 2019-04-30 | Username: jochen_berlin |  Tweet: Was ist der Erkenntnisgewinn, wenn die Parteien ihre Stiftungen mit Studien beauftragen? Es kommt immer das raus, was Nahles, Klingbeil oder Kevin in jeder Talkshow erzählen. Eine kritische Einordung durch Euch wäre hilfreich.\n",
      "Datum: 2019-04-30 | Username: parasitesrule |  Tweet: #kmcb2019 SESSION V: Cell Cycle/Cytokenisis Michele Klingbeil, Chair\n"
     ]
    },
    {
     "name": "stdout",
     "output_type": "stream",
     "text": [
      "Datum: 2019-04-01 | Username: DerRoteBot |  Tweet: Was glaubt ihr eigentlich, wer ihr seid, sehr geehrte Boris Palmers - Der Widerstand gegen Markus Söders allbayerischem Größenwahn ist eine neue Kampagne unseres Generalsekretärs Lars Klingbeil! Vornehmlich im parteinternen Diskurs.\n",
      "Datum: 2019-03-31 | Username: naanoo_com |  Tweet: Klingbeil: Seehofer muss Daten-Austausch mit Österreich prüfen -  https://news.naanoo.com/mix/klingbeil-seehofer-muss-daten-austausch-mit-oesterreich-pruefen …\n",
      "Datum: 2019-03-31 | Username: PresseAugsburg |  Tweet: Klingbeil: Seehofer muss Daten-Austausch mit Österreich prüfen  https://presse-augsburg.de/klingbeil-seehofer-muss-daten-austausch-mit-oesterreich-pruefen/435126/ … pic.twitter.com/BxSQLI6od2\n",
      "Datum: 2019-03-31 | Username: your_first_way |  Tweet: Klingbeil: Seehofer muss Daten-Austausch mit Österreich prüfenFoto: Horst Seehofer, über dts Nachrichtenagentur Berlin (dts Nachrichtenagentur) http://bit.ly/2FIqsZI \n",
      "Datum: 2019-03-31 | Username: Klaus90469 |  Tweet: Klingbeil: Seehofer muss Daten-Austausch mit Österreich prüfen  https://www.klamm.de/news/klingbeil-seehofer-muss-daten-austausch-mit-oesterreich-pruefen-21N1554056302294.html …\n",
      "Datum: 2019-03-31 | Username: WirtschaftCom |  Tweet: Klingbeil: Seehofer muss Daten-Austausch mit Österreich prüfen -  http://k.ht/9wc  pic.twitter.com/We1QHJBHEM\n",
      "Datum: 2019-03-31 | Username: hasepost |  Tweet: Klingbeil: Seehofer muss Daten-Austausch mit Österreich prüfen  https://www.hasepost.de/klingbeil-seehofer-muss-daten-austausch-mit-oesterreich-pruefen-121426/ … pic.twitter.com/LCOQu1Y9cQ\n",
      "Datum: 2019-03-31 | Username: YFW_Directory |  Tweet: Klingbeil: Seehofer muss Daten-Austausch mit Österreich prüfen - Foto: Horst Seehofer, über dts NachrichtenagenturBerlin (dts Nachrichtenagentur) - -\n",
      "Datum: 2019-03-31 | Username: ElisabethDavy |  Tweet: Wie kann es sein das Beamte wieder Bezugserhõhungen bekommen und Befrister kaputt gehen beruflich und Sozial Hr.Klingbeil? Kriminelles Teilzeit Befristungsgesetz immer noch nicht vom Tisch.Wir warten alle in Deutschland das es weg kommt das kriminelle Gesetz.\n",
      "Datum: 2019-03-31 | Username: chmayer4 |  Tweet: Ich wünsche Frau #Kipping und Herrn #Klingbeil, dass sie irgendwann mal ihr Geld in der freien Wirtschaft verdienen müssen. Vielleicht lernen sie dann, dass man es nicht ständig mit vollen Händen aus dem Fenster werfen kann  https://www.zeit.de/arbeit/2019-03/katja-kipping-die-linke-sabbatjahre-auszeit-sabbatical-finanzierung …\n",
      "Datum: 2019-03-31 | Username: DerRoteBot |  Tweet: Moin, meine sehr geehrten Rich-Kids - Die Entwicklung einer neuen, moderne Sozialdemokratie ist eine geile Kampagne unseres Generalsekretärs Lars Klingbeil! Vorzugsweise in der aktuellen Legislaturperiode.\n",
      "Datum: 2019-03-31 | Username: RadermacherDirk |  Tweet: Gute Veranstaltung mit Lars Klingbeil zur Zukunft der SPD.  https://twitter.com/SPDDuisburg/status/1111987604185067520 …\n",
      "Datum: 2019-03-30 | Username: schwarzseherin |  Tweet: Abteilung „Qualifizierung und Muße“ 😅 hübsch. Nahles und Lars klingbeil hatten schon ähnliche visiönchen. Aber insgesamt Sahra ist aus dem Weg, Katja gibt Gas. Erst der Aufsatz im duktus der linken vergangener Jahrzehnte - nun dies. Gibts ein Video ihrer Rede #linkelpt in Gera?\n",
      "Datum: 2019-03-30 | Username: On3Lung |  Tweet: This is one reason why teachers matter. Ms. Klingbeil taught more than English, she helped us discover who we were.  https://www.seattletimes.com/education-lab/after-beloved-teacher-dies-students-receive-letters-they-wrote-to-themselves-in-the-80s-but-she-forgot-to-send/ …\n",
      "Datum: 2019-03-30 | Username: 7Downing |  Tweet: @Stevicules Stark Werder! Da schwelgt man glatt in den guten alten Zeiten. Da hatte der verdammte Klingbeil wohl den besseren Riecher!\n",
      "Datum: 2019-03-30 | Username: klingbeil_tim |  Tweet: Dance party sprinklers\n",
      "Datum: 2019-03-30 | Username: n_klingbeil |  Tweet: Legit that's such a good use of your time, proud of you\n",
      "Datum: 2019-03-30 | Username: SPDDuisburg |  Tweet: Wie wollen wir uns als SPD für die Zukunft aufstellen? Mit dieser Frage haben sich heute die Mitglieder unserer Duisburger SPD gemeinsam mit unserem Generalsekretär Lars Klingbeil beschäftigt. In vier thematischen...  https://www.facebook.com/SPDDuisburg/posts/2308824445848812 …\n",
      "Datum: 2019-03-30 | Username: km1860 |  Tweet: Hallo Klingbeil,  zahlen sie schon in die Rentenkasse ein?\n",
      "Datum: 2019-03-30 | Username: JoeGKushner |  Tweet: Check out DungeonWorks: Monstrous Encounters - Undead Rising by Klingbeil on @Kickstarter https://www.kickstarter.com/projects/klingbeil/dungeonworks-monstrous-encounters-undead-rising?ref=project_tweet …\n",
      "Datum: 2019-03-01 | Username: Q_Tweets |  Tweet: Die EU Wahl kommt. Danach so hoffe i h, geht #Nahles ihr Selfiegeneral #Klingbeil und Mr. Binaufdemfalschen Posten Maas\n",
      "Datum: 2019-03-01 | Username: DerRoteBot |  Tweet: Hi, meine Nazis - Das Gute-Kita-Gesetz ist eine geile Kampagne unseres Generalsekretärs Lars Klingbeil! Maßgeblich im aktuellen Wahlkampf.\n",
      "Datum: 2019-03-01 | Username: Boostard |  Tweet: Herr Klingbeil, ehrliche Antwort, wieviele Mitarbeiter in der SPD Parteizentrale arbeiten im Home Office? Könnten Sie doch gut ausprobieren.\n",
      "Datum: 2019-03-01 | Username: SchwaePo |  Tweet: Aschermittwoch mit Klingbeil  http://dlvr.it/QzyxlR  pic.twitter.com/4YYT6z3k5y\n",
      "Datum: 2019-03-01 | Username: beli4l_ |  Tweet: Was soll mir dieses Bild jetzt sagen, dass Sie vermutlich aus Ihrem \"Epic JPEGs\" Ordner auf der Festplatte gesucht haben? Und was hat das mit der Ausbildung und Kompetenz von Herrn Klingbeil zu tun?\n",
      "Datum: 2019-03-01 | Username: Stevicules |  Tweet: Klingbeil vs. Krömer: 24. Bundesliga-Spieltag:  https://stevinho.justnetwork.eu/2019/03/01/klingbeil-vs-kroemer-24-bundesliga-spieltag/ … @larsklingbeil @janflacke\n",
      "Datum: 2019-03-01 | Username: n_geisterhagen |  Tweet: Lars Weisbrod > Lars Klingbeil\n",
      "Datum: 2019-03-01 | Username: haasmuch |  Tweet: Lars Klingbeil SPD-Generalsekretär, nie in der Wirtschaft tätig gewesen.  Mehr braucht man zu diesem Beitrag nicht zu sagen.  Die Fachkräfte in der SPD!!!  https://twitter.com/larsklingbeil/status/1100413287311654912 …\n",
      "Datum: 2019-03-01 | Username: Adele66661 |  Tweet: Herr Klingbeil, sie haben doch in ihrem Leben noch nie gearbeitet! Vielleicht sollte man für eine Beurteilung auch betriebliche Abläufe kennen und die dürften ihnen bei ihrer Vita völlig fremd sein...\n",
      "Datum: 2019-03-01 | Username: AWNarses |  Tweet: Wo ist das Argument in der Sache? Die Behauptung von Klingbeil wird durch Ihren Post nicht widerlegt.\n",
      "Datum: 2019-03-01 | Username: thesxyfoosty |  Tweet: Great stream tonight! Threw the new intro vid up and so far I’ve gotten solid reviews! Thanks to the crew for always putting up with me spamming my stream 😂the boys @gthuggin @Nate_Klingbeil Guatstrike @Wattheheal and the rest of the homies! #twitch #thankful #bros #pc #gaming\n",
      "Datum: 2019-03-01 | Username: Diario99yLa99_3 |  Tweet: #Agro “Nuestra situación es desesperante, necesitamos que se trabaje de manera inmediata sobre las leyes que regulan la actividad” sostuvo Cristian Klingbeil, tealero de Oberá.  http://diario99.com.ar/dirigentes-de-apam-manifiestan-la-necesidad-de-avanzar-en-la-reforma-de-la-ley-del-coprote/ …\n",
      "Datum: 2019-03-01 | Username: aangelo_ge |  Tweet: KLingbeil, typischer #SPD & Polit Karrierist!\n",
      "Datum: 2019-03-01 | Username: sportsadvisers2 |  Tweet: Haben Sie denn überhaupt schonmal ein \"deutsches Unternehmen\" von innen gesehen, Herr Klingbeil ? Grade mal ein bissl in Ihrer Vita geschaut, finde da irgendwie gar nichts... #SPDRaus #weltfremdeSpinnerRaus #SPD #Klingbeil #Witzfigur #wernichtswirdwirdSPDPolitiker\n",
      "Datum: 2019-02-28 | Username: PCvanDuyne |  Tweet: Und sogar wenn Klingbeil nie einen Stein auf dem anderen gelegt hat, dennoch hat er recht. Es kann vielmehr #mobil gearbeitet werden, was Zeit und Transportkosten sparen wird: die meisten Angestellten arbeiten am Schirm, was ebenso gut zuHause kann. https://twitter.com/dushanwegner/status/1101126198439092224 …\n",
      "Datum: 2019-02-28 | Username: Remove45PDQ |  Tweet: If they’re held accountable that will help fill the prisons and reduce the need to target certain populations when they are innocent.\n",
      "Datum: 2019-02-28 | Username: MadEtJot |  Tweet: werter Herr Klingbeil, versuchen Sie die ihnen übertragenen Aufgaben zufriedenstellend zu erledigen. wenn Sie das geschafft haben (never ever) können Sie neue Baustellen aufmachen. bzw. die Leute fragen was gemacht werden sollte\n",
      "Datum: 2019-02-28 | Username: kaeptnkaracho |  Tweet: Wenn ich mir die #Digitalagenda von Klingbeil und der SPD anschaue raufe ich mir als ITler die Haare. „Netzpartei“ sind die ganz bestimmt nicht 🧐\n",
      "Datum: 2019-02-28 | Username: Mic_T_Ben |  Tweet: Ui, jetzt bin ich aber überrascht. Hat denn der Herr Klingbeil, oder der Herr Heil überhaupt schon mal etwas gearbeitet?   Vielleicht sollten Sie mal bei einem, Mauerlehrling oder einer Schwesternschülerin in die Lehre gehen?   Moralisch sind Ihnen beide überlegen...\n",
      "Datum: 2019-02-28 | Username: Paeddy1994_yt |  Tweet: Ach jetzt. Der Klingbeil ist bei der SPD. OMG das war jetzt ein riesen Fettnapf. Ich glaube ich twittere für heute nix mehr. 😂\n"
     ]
    },
    {
     "name": "stdout",
     "output_type": "stream",
     "text": [
      "Datum: 2019-01-30 | Username: ericwdolan |  Tweet:  pic.twitter.com/Nho2t2YfVe\n",
      "Datum: 2019-01-30 | Username: SiriAgrell |  Tweet: Such as?\n",
      "Datum: 2019-01-30 | Username: bill_klingbeil |  Tweet: 😅🤣😂\n",
      "Datum: 2019-01-30 | Username: bill_klingbeil |  Tweet: Cold in Ohio!!! #PolarVortex pic.twitter.com/nsUPQP1H5R\n",
      "Datum: 2019-01-30 | Username: klingbeil_tim |  Tweet: I got a bowl of that right now actually. Save one of those buckets for July 11 and we can fill it with 7/11 slushy slush\n",
      "Datum: 2019-01-30 | Username: bonnyjk |  Tweet: Or oatmeal.\n",
      "Datum: 2019-01-30 | Username: klingbeil_tim |  Tweet: Too bad they ain’t filled with chicken\n",
      "Datum: 2019-01-30 | Username: bonnyjk |  Tweet: Hey @klingbeil_tim, bought you some new buckets yesterday. 💰💰💰💰 pic.twitter.com/l6vFbXDu5g\n",
      "Datum: 2019-01-30 | Username: n_klingbeil |  Tweet: Knew it\n",
      "Datum: 2019-01-30 | Username: Brookie__2 |  Tweet: Frick.  @jacksonbay98 @n_klingbeil yes this is about wanting chicken nuggets\n",
      "Datum: 2019-01-30 | Username: loedwood |  Tweet: Wenn man dann das ganze Interview mit klingbeil liest erkennt man das ganze Dilemma, er sieht denn Splitter im Auge des gegenüber den Balken im eigenen Auge aber nicht.\n",
      "Datum: 2019-01-30 | Username: bill_klingbeil |  Tweet: I called tech support and because his warranty ended seven days ago they will not repair it!   Please spread and share this!  If you have had an issue with a Dell or Alienware computer failing just out of warranty let me know!  #alienware #GamingLife #gamer #GamersUnite\n",
      "Datum: 2019-01-30 | Username: bill_klingbeil |  Tweet: I purchased a $1,600 Alienware PC for my son for Christmas 2017.  Within the first few months the hard drive and RAM had to be replaced.  Last week the fan started acting up and a cooling issue message warned him to shut down the PC.\n",
      "Datum: 2019-01-29 | Username: Louecrit |  Tweet: #Chebli säuselt über das Paar Steinmeier/Büdenbender, twittert im Takt zu Swingmusik mit R.Grenell, empfiehlt Lars #Klingbeil live u den Asiaten um die Ecke, der sich ganz schön keck auf ihre Kosten einen Scherz erlaubt. Uiui Sawsan, die haben dich ganz schön eingefangen!\n",
      "Datum: 2019-01-29 | Username: ColumbusAcademy |  Tweet: After school on February 13th, come find out where these @AcademyVikings will be continuing their athletic careers: Chris Boyle, Deven Cobb, Samantha Kass, Malcolm Klingbeil, Alexis Leader, Liam McCann, Harry Mills & Dorrian Moultrie!  https://twitter.com/CACoachMiller/status/1090288599839506432 …\n",
      "Datum: 2019-01-29 | Username: LandusCoop |  Tweet: Our own @klingbeil_ISU will be on @WHORadio from the @IAPowerFarmShow at 12:35 today.  If you hear him tell us, or take and share a photo of our booth on Twitter, and we'll enter you in a prize drawing!\n",
      "Datum: 2019-01-29 | Username: 748erduc |  Tweet: Ja, oder man lässt die Nahles und die Seeheimer Kahrs, Klingbeil & Co  weitermachen. Das könnte man dann auch unter dem Aspekt Sterbehilfe betrachten.\n",
      "Datum: 2019-01-29 | Username: winnipuh3351 |  Tweet: Warum wirft man uns vor, dass wir zu oft zum Arzt gehen, wenn dann der Arzt das Rezept so restriktiv ausstellt, dass man spätestens in 2 Monaten wieder hin muss? Unser Gesundheitssystem ist krank, Herr Klingbeil. Es war mal viel besser\n",
      "Datum: 2019-01-29 | Username: klingbeil_ISU |  Tweet: Stop by and see me today @IAPowerFarmShow @LandusCoop booth, we can talk Landus App, precision management and how to use #1R to turn up the heat for your 2019 crop!  @FieldReveal\n",
      "Datum: 2019-01-29 | Username: bill_klingbeil |  Tweet: 😢😢😢\n",
      "Datum: 2018-12-31 | Username: grawo12 |  Tweet: Na Herr Dirk Klingbeil...vielleicht solltest du dir über dich selber mal Gedanken machen, ehe du solchen Mist raushaust...\n",
      "Datum: 2018-12-31 | Username: dennis_wieland |  Tweet: Dem gegenüber bin ich doch offen. Aber ein BGE halte ich für diese Fragen zu lösen für den falschen Weg, das ist meine ganz persönliche Einstellung. Lieber ein Grundeinkommensjahr nach x Jahren Arbeit. (Vorschlag von Lars Klingbeil)\n",
      "Datum: 2018-12-31 | Username: BobLunderbus |  Tweet: Karlheinz Klingbeil wants to see the NSA's dirty books.\n",
      "Datum: 2018-12-31 | Username: HolgerAbendrot1 |  Tweet: Die SPD hat eine \"Führungsriege\". Das Dorftrampel und der Heiligenschein. Da fehlt nur noch das Klingbeil zum Skat\n",
      "Datum: 2018-12-30 | Username: PolitwoopsDE |  Tweet: DT Lars Klingbeil 🇪🇺: RT clemens kucharski: .Lars Klingbeil 🇪🇺 bei #DataDebates: \"mir waer lieber, dass wir mal ueber #KI diskutieren anstatt dauernd ueber fluechtlinge.\"  a… http://pltwps.it/_PMKEG12 \n",
      "Datum: 2018-12-30 | Username: Thomas_Renkert |  Tweet: Es bleiben im Raum: Gabriel, Schulz, Maas, Stegner, Klingbeil, Heil.\n",
      "Datum: 2018-12-30 | Username: digitalHUBac |  Tweet: Lars Klingbeil im Changerider: „Wir Deutschen können Disruption überhaupt nicht“  https://refind.com/l/7bb392839a  via @t3n on @refindcom\n",
      "Datum: 2018-12-29 | Username: ZephyrMensPuck |  Tweet: Goal! Cole Klingbeil puts one in to take back the lead. Zephs up 2-1.\n",
      "Datum: 2018-12-29 | Username: jesse_klingbeil |  Tweet: Very NICE!!\n",
      "Datum: 2018-12-29 | Username: Fj21970716 |  Tweet: Fragen sie doch mal den Lars Klingbeil,  seine SPD ist in der Regierung.\n",
      "Datum: 2018-12-28 | Username: FreiherrS |  Tweet: Ich pauschaliere nicht. Georg Restle ist kein Ehrenmann + ein jämmerlicher Feigling. Warum? Weil er Leute blockiert, die ihm nicht zum Mund zu reden. Kenne im Moment keinen einzigen Roten mit Schneid. Hier die Nr. von Lars Klingbeil (+49 171 1575367). Versuche es. Nur Feiglinge!\n",
      "Datum: 2018-12-28 | Username: jesse_klingbeil |  Tweet: Congrats Kathleen!!!\n",
      "Datum: 2018-12-28 | Username: UpNorthHockey19 |  Tweet: Mahtomedi (7) Virginia/MIB (2)  Final  Goals: Zephyrs: Miller, Hagstrom (3), Klingbeil, McCarver, L’Allier Blue Devils:  Moreland, Chesser  Shots On 🥅 51-20 Mahtomedi   @FollowThePuck @DevilsVirginia @ZephyrMensPuck pic.twitter.com/jfPtDwRZDw – bei Miners Memorial Complex\n",
      "Datum: 2018-12-28 | Username: UpNorthHockey19 |  Tweet: Mahtomedi (4)  Virginia/MIB (2)  End of 2  Goals: Zephyrs: Miller, Hagstrom (2), Klingbeil Blue Devils:  Moreland, Chesser  Shots On 🥅 34-16 Mahtomedi   @FollowThePuck pic.twitter.com/lhH13iNmzg – bei Miners Memorial Complex\n",
      "Datum: 2018-12-28 | Username: UpNorthHockey19 |  Tweet: Mahtomedi answers back with a goal 🚨 Cole Klingbeil 🍏 Nikolai Dulak, Colin Hagstrom  2:26 remaining in the 2nd 3-2 Zephyrs  pic.twitter.com/KVCzr27Rh8 – bei Miners Memorial Complex\n",
      "Datum: 2018-12-28 | Username: ZephyrMensPuck |  Tweet: Goals! Cole Klingbeil and Colin Hagstrom scoring to put the zephs back up 4-2\n",
      "Datum: 2018-12-28 | Username: klingbeil_tim |  Tweet: I’m officially getting old. Wine is starting to taste good.\n",
      "Datum: 2018-12-28 | Username: Francco71 |  Tweet: Ein Dirk Klingbeil, der \"seinen?\" Namen mit kyrillischen Buchstaben schreibt- was für ein Held.\n",
      "Datum: 2018-12-27 | Username: Blumenfueralle |  Tweet: Warum schreibt Dirk Klingbeil eigentlich nicht Dirk Klingbeil? #Fresse2018\n",
      "Datum: 2018-12-27 | Username: alexanderXgrafe |  Tweet: Name ist einfach nur „Dirk Klingbeil“ auf kyrillisch. Immer diese Russland-Bots 😂\n"
     ]
    }
   ],
   "source": [
    "# Custom output format\n",
    "c.Format = \"Datum: {date} | Username: {username} |  Tweet: {tweet}\"\n",
    "c.Pandas = True\n",
    "c.Limit = 1\n",
    "c.Since = '2018-12-31'\n",
    "c.Until = '2019-06-30'\n",
    "twint.run.Search(c)"
   ]
  },
  {
   "cell_type": "code",
   "execution_count": null,
   "metadata": {},
   "outputs": [],
   "source": [
    "tweets_df = twint.storage.panda.Tweets_df"
   ]
  },
  {
   "cell_type": "code",
   "execution_count": null,
   "metadata": {},
   "outputs": [],
   "source": [
    "tweets_df.columns"
   ]
  },
  {
   "cell_type": "code",
   "execution_count": null,
   "metadata": {},
   "outputs": [],
   "source": [
    "tweets_df.to_pickle('klingbeil_tweets.pkl')"
   ]
  },
  {
   "cell_type": "markdown",
   "metadata": {},
   "source": [
    "-----------------------------------------------"
   ]
  },
  {
   "cell_type": "code",
   "execution_count": null,
   "metadata": {},
   "outputs": [],
   "source": [
    "tweets_df = pd.read_pickle('klingbeil_tweets.pkl')"
   ]
  },
  {
   "cell_type": "code",
   "execution_count": null,
   "metadata": {},
   "outputs": [],
   "source": [
    "tweets_df.shape"
   ]
  },
  {
   "cell_type": "code",
   "execution_count": null,
   "metadata": {},
   "outputs": [],
   "source": [
    "tweets_df.dtypes"
   ]
  },
  {
   "cell_type": "code",
   "execution_count": null,
   "metadata": {},
   "outputs": [],
   "source": [
    "tweets_df.date = pd.to_datetime(tweets_df.date)"
   ]
  },
  {
   "cell_type": "code",
   "execution_count": null,
   "metadata": {},
   "outputs": [],
   "source": [
    "tweets_df.sample()"
   ]
  },
  {
   "cell_type": "code",
   "execution_count": null,
   "metadata": {},
   "outputs": [],
   "source": [
    "tweets_df = tweets_df[['date', 'username', 'name', 'tweet', 'nlikes', 'nreplies', 'nretweets', 'quote_url']]"
   ]
  },
  {
   "cell_type": "code",
   "execution_count": null,
   "metadata": {},
   "outputs": [],
   "source": [
    "tweets_df.head()"
   ]
  },
  {
   "cell_type": "code",
   "execution_count": null,
   "metadata": {},
   "outputs": [],
   "source": [
    "text = tweets_df.tweet[0]"
   ]
  },
  {
   "cell_type": "code",
   "execution_count": null,
   "metadata": {},
   "outputs": [],
   "source": [
    "blob = TextBlob(text)"
   ]
  },
  {
   "cell_type": "code",
   "execution_count": null,
   "metadata": {},
   "outputs": [],
   "source": [
    "blob.sentiment.polarity"
   ]
  },
  {
   "cell_type": "code",
   "execution_count": null,
   "metadata": {},
   "outputs": [],
   "source": [
    "TextBlob(text).sentiment"
   ]
  },
  {
   "cell_type": "code",
   "execution_count": null,
   "metadata": {},
   "outputs": [],
   "source": [
    "tweets_df['Stimmung'] = tweets_df.tweet.apply(lambda x: TextBlob(x).sentiment.polarity)"
   ]
  },
  {
   "cell_type": "code",
   "execution_count": null,
   "metadata": {},
   "outputs": [],
   "source": [
    "tweets_df['Subjectivity'] = tweets_df.tweet.apply(lambda x: TextBlob(x).sentiment.subjectivity)"
   ]
  },
  {
   "cell_type": "code",
   "execution_count": null,
   "metadata": {},
   "outputs": [],
   "source": [
    "negativ = tweets_df[tweets_df.Stimmung == -1]"
   ]
  },
  {
   "cell_type": "code",
   "execution_count": null,
   "metadata": {},
   "outputs": [],
   "source": [
    "negativ"
   ]
  },
  {
   "cell_type": "code",
   "execution_count": null,
   "metadata": {},
   "outputs": [],
   "source": [
    "tweets_df.shape"
   ]
  },
  {
   "cell_type": "code",
   "execution_count": null,
   "metadata": {},
   "outputs": [],
   "source": [
    "tweets_df.to_excel('2019-10-01_kuenast.xls')"
   ]
  },
  {
   "cell_type": "code",
   "execution_count": null,
   "metadata": {},
   "outputs": [],
   "source": []
  }
 ],
 "metadata": {
  "kernelspec": {
   "display_name": "Python 3",
   "language": "python",
   "name": "python3"
  }
 },
 "nbformat": 4,
 "nbformat_minor": 4
}

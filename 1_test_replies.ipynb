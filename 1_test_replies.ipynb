{
 "cells": [
  {
   "cell_type": "code",
   "execution_count": null,
   "metadata": {},
   "outputs": [],
   "source": [
    "import nest_asyncio\n",
    "import twint\n",
    "\n",
    "nest_asyncio.apply()\n",
    "custom_query = \"\"\n",
    "mentioned = {}\n",
    "replied = {}\n",
    "mentions = ['@Renatekuenast']\n",
    "replies = ['chkuehl']\n",
    "for m in mentions:\n",
    "    mentioned.update({m: {}})\n",
    "    custom_query += \"@{} OR \".format(m)\n",
    "custom_query = custom_query[:-3]\n",
    "\n",
    "for r in replies:\n",
    "    replied.update({r: {}})\n",
    "    custom_query += \"to:{} OR \".format(r)\n",
    "custom_query = custom_query[:-4]\n",
    "\n",
    "c = twint.Config()\n",
    "c.Custom_query = custom_query\n",
    "c.Store_object = True\n",
    "c.Store_csv = True\n",
    "c.Output = \"tweets_Renatekuenast_replies.csv\"\n",
    "c.Hide_output = True\n",
    "\n",
    "twint.run.Search(c)\n",
    "\n",
    "tweets = twint.output.tweets_list"
   ]
  }
 ],
 "metadata": {
  "kernelspec": {
   "display_name": "Python 3",
   "language": "python",
   "name": "python3"
  },
  "language_info": {
   "codemirror_mode": {
    "name": "ipython",
    "version": 3
   },
   "file_extension": ".py",
   "mimetype": "text/x-python",
   "name": "python",
   "nbconvert_exporter": "python",
   "pygments_lexer": "ipython3",
   "version": "3.7.1"
  }
 },
 "nbformat": 4,
 "nbformat_minor": 2
}
